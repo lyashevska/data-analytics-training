{
 "cells": [
  {
   "cell_type": "markdown",
   "metadata": {},
   "source": [
    "## Why is Data Analysis important?"
   ]
  },
  {
   "cell_type": "markdown",
   "metadata": {},
   "source": [
    "Data analysis allows you to generate new insights and identify new opportunities for growth and improved decision making."
   ]
  },
  {
   "cell_type": "markdown",
   "metadata": {},
   "source": [
    "## About this training"
   ]
  },
  {
   "cell_type": "markdown",
   "metadata": {},
   "source": [
    "This training teaches participants with no prior programming or data analytics experience how to perform data manipulation, data analysis and data visualisation in Python. "
   ]
  },
  {
   "cell_type": "markdown",
   "metadata": {},
   "source": [
    "Users will be able to understand the capabilities of data analytics and align business goals with techniques."
   ]
  },
  {
   "cell_type": "markdown",
   "metadata": {},
   "source": [
    " Programming will be performed interactively in a Jupyter notebook environment.  Jupyter notebooks are powerful and compelling tools, and have become very popular among data scientists.  A Jupyter notebook is a document that supports mixing executable code, equations, visualizations, and narrative text and allows to generate reports dynamically. It is a free and open source platform."
   ]
  },
  {
   "cell_type": "markdown",
   "metadata": {},
   "source": [
    "## Outline:\n",
    "\n",
    "1. Introduction to Python;\n",
    "2. Loading and manipulating data (reshaping, missing values);\n",
    "3. Data visualisation;\n",
    "4. Descriptive Statistics (mean, standard deviation, etc);\n",
    "5. Inferential Statistics (anova, regression, classification)."
   ]
  },
  {
   "cell_type": "markdown",
   "metadata": {},
   "source": [
    "## Learning outcomes:\n",
    "\n",
    "On completion of this module the learner will be able to:\n",
    "\n",
    "1. Write basic scripts in Python;\n",
    "2. Visualise data;\n",
    "3. Summarise data;\n",
    "4. Draw conclusions from data;\n",
    "5. Generate reports from Jupyter notebooks.\n"
   ]
  },
  {
   "cell_type": "code",
   "execution_count": null,
   "metadata": {},
   "outputs": [],
   "source": []
  },
  {
   "cell_type": "code",
   "execution_count": null,
   "metadata": {},
   "outputs": [],
   "source": []
  },
  {
   "cell_type": "code",
   "execution_count": null,
   "metadata": {},
   "outputs": [],
   "source": []
  },
  {
   "cell_type": "code",
   "execution_count": null,
   "metadata": {},
   "outputs": [],
   "source": []
  },
  {
   "cell_type": "markdown",
   "metadata": {},
   "source": [
    "## What is Python?\n"
   ]
  },
  {
   "cell_type": "markdown",
   "metadata": {},
   "source": [
    "Python is a popular, open-source programming language used for both scripting applications and standalone programs.Python can be used to do pretty much anything. For example, you can use Python as a calculator."
   ]
  },
  {
   "cell_type": "code",
   "execution_count": 1,
   "metadata": {},
   "outputs": [
    {
     "data": {
      "text/plain": [
       "4"
      ]
     },
     "execution_count": 1,
     "metadata": {},
     "output_type": "execute_result"
    }
   ],
   "source": [
    "2+2"
   ]
  },
  {
   "cell_type": "markdown",
   "metadata": {},
   "source": [
    "## Why use Python?"
   ]
  },
  {
   "cell_type": "code",
   "execution_count": null,
   "metadata": {},
   "outputs": [],
   "source": []
  },
  {
   "cell_type": "code",
   "execution_count": null,
   "metadata": {},
   "outputs": [],
   "source": []
  }
 ],
 "metadata": {
  "kernelspec": {
   "display_name": "Python 3",
   "language": "python",
   "name": "python3"
  },
  "language_info": {
   "codemirror_mode": {
    "name": "ipython",
    "version": 3
   },
   "file_extension": ".py",
   "mimetype": "text/x-python",
   "name": "python",
   "nbconvert_exporter": "python",
   "pygments_lexer": "ipython3",
   "version": "3.6.5"
  }
 },
 "nbformat": 4,
 "nbformat_minor": 2
}
